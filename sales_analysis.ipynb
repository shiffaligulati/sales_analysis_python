{
 "cells": [
  {
   "cell_type": "code",
   "execution_count": 1,
   "id": "04dfb0f4",
   "metadata": {},
   "outputs": [],
   "source": [
    "import pandas as pd\n",
    "import matplotlib.pyplot as plt\n",
    "import seaborn as sns\n",
    "from  datetime import datetime"
   ]
  },
  {
   "cell_type": "code",
   "execution_count": 2,
   "id": "89604759",
   "metadata": {},
   "outputs": [
    {
     "data": {
      "text/html": [
       "<div>\n",
       "<style scoped>\n",
       "    .dataframe tbody tr th:only-of-type {\n",
       "        vertical-align: middle;\n",
       "    }\n",
       "\n",
       "    .dataframe tbody tr th {\n",
       "        vertical-align: top;\n",
       "    }\n",
       "\n",
       "    .dataframe thead th {\n",
       "        text-align: right;\n",
       "    }\n",
       "</style>\n",
       "<table border=\"1\" class=\"dataframe\">\n",
       "  <thead>\n",
       "    <tr style=\"text-align: right;\">\n",
       "      <th></th>\n",
       "      <th>order_id</th>\n",
       "      <th>order_date</th>\n",
       "      <th>ship_date</th>\n",
       "      <th>ship_mode</th>\n",
       "      <th>customer_name</th>\n",
       "      <th>segment</th>\n",
       "      <th>state</th>\n",
       "      <th>country</th>\n",
       "      <th>market</th>\n",
       "      <th>region</th>\n",
       "      <th>...</th>\n",
       "      <th>category</th>\n",
       "      <th>sub_category</th>\n",
       "      <th>product_name</th>\n",
       "      <th>sales</th>\n",
       "      <th>quantity</th>\n",
       "      <th>discount</th>\n",
       "      <th>profit</th>\n",
       "      <th>shipping_cost</th>\n",
       "      <th>order_priority</th>\n",
       "      <th>year</th>\n",
       "    </tr>\n",
       "  </thead>\n",
       "  <tbody>\n",
       "    <tr>\n",
       "      <th>0</th>\n",
       "      <td>AG-2011-2040</td>\n",
       "      <td>2011-01-01</td>\n",
       "      <td>2011-01-06</td>\n",
       "      <td>Standard Class</td>\n",
       "      <td>Toby Braunhardt</td>\n",
       "      <td>Consumer</td>\n",
       "      <td>Constantine</td>\n",
       "      <td>Algeria</td>\n",
       "      <td>Africa</td>\n",
       "      <td>Africa</td>\n",
       "      <td>...</td>\n",
       "      <td>Office Supplies</td>\n",
       "      <td>Storage</td>\n",
       "      <td>Tenex Lockers, Blue</td>\n",
       "      <td>408.300</td>\n",
       "      <td>2</td>\n",
       "      <td>0.0</td>\n",
       "      <td>106.140</td>\n",
       "      <td>35.46</td>\n",
       "      <td>Medium</td>\n",
       "      <td>2011</td>\n",
       "    </tr>\n",
       "    <tr>\n",
       "      <th>1</th>\n",
       "      <td>IN-2011-47883</td>\n",
       "      <td>2011-01-01</td>\n",
       "      <td>2011-01-08</td>\n",
       "      <td>Standard Class</td>\n",
       "      <td>Joseph Holt</td>\n",
       "      <td>Consumer</td>\n",
       "      <td>New South Wales</td>\n",
       "      <td>Australia</td>\n",
       "      <td>APAC</td>\n",
       "      <td>Oceania</td>\n",
       "      <td>...</td>\n",
       "      <td>Office Supplies</td>\n",
       "      <td>Supplies</td>\n",
       "      <td>Acme Trimmer, High Speed</td>\n",
       "      <td>120.366</td>\n",
       "      <td>3</td>\n",
       "      <td>0.1</td>\n",
       "      <td>36.036</td>\n",
       "      <td>9.72</td>\n",
       "      <td>Medium</td>\n",
       "      <td>2011</td>\n",
       "    </tr>\n",
       "    <tr>\n",
       "      <th>2</th>\n",
       "      <td>HU-2011-1220</td>\n",
       "      <td>2011-01-01</td>\n",
       "      <td>2011-01-05</td>\n",
       "      <td>Second Class</td>\n",
       "      <td>Annie Thurman</td>\n",
       "      <td>Consumer</td>\n",
       "      <td>Budapest</td>\n",
       "      <td>Hungary</td>\n",
       "      <td>EMEA</td>\n",
       "      <td>EMEA</td>\n",
       "      <td>...</td>\n",
       "      <td>Office Supplies</td>\n",
       "      <td>Storage</td>\n",
       "      <td>Tenex Box, Single Width</td>\n",
       "      <td>66.120</td>\n",
       "      <td>4</td>\n",
       "      <td>0.0</td>\n",
       "      <td>29.640</td>\n",
       "      <td>8.17</td>\n",
       "      <td>High</td>\n",
       "      <td>2011</td>\n",
       "    </tr>\n",
       "    <tr>\n",
       "      <th>3</th>\n",
       "      <td>IT-2011-3647632</td>\n",
       "      <td>2011-01-01</td>\n",
       "      <td>2011-01-05</td>\n",
       "      <td>Second Class</td>\n",
       "      <td>Eugene Moren</td>\n",
       "      <td>Home Office</td>\n",
       "      <td>Stockholm</td>\n",
       "      <td>Sweden</td>\n",
       "      <td>EU</td>\n",
       "      <td>North</td>\n",
       "      <td>...</td>\n",
       "      <td>Office Supplies</td>\n",
       "      <td>Paper</td>\n",
       "      <td>Enermax Note Cards, Premium</td>\n",
       "      <td>44.865</td>\n",
       "      <td>3</td>\n",
       "      <td>0.5</td>\n",
       "      <td>-26.055</td>\n",
       "      <td>4.82</td>\n",
       "      <td>High</td>\n",
       "      <td>2011</td>\n",
       "    </tr>\n",
       "    <tr>\n",
       "      <th>4</th>\n",
       "      <td>IN-2011-47883</td>\n",
       "      <td>2011-01-01</td>\n",
       "      <td>2011-01-08</td>\n",
       "      <td>Standard Class</td>\n",
       "      <td>Joseph Holt</td>\n",
       "      <td>Consumer</td>\n",
       "      <td>New South Wales</td>\n",
       "      <td>Australia</td>\n",
       "      <td>APAC</td>\n",
       "      <td>Oceania</td>\n",
       "      <td>...</td>\n",
       "      <td>Furniture</td>\n",
       "      <td>Furnishings</td>\n",
       "      <td>Eldon Light Bulb, Duo Pack</td>\n",
       "      <td>113.670</td>\n",
       "      <td>5</td>\n",
       "      <td>0.1</td>\n",
       "      <td>37.770</td>\n",
       "      <td>4.70</td>\n",
       "      <td>Medium</td>\n",
       "      <td>2011</td>\n",
       "    </tr>\n",
       "  </tbody>\n",
       "</table>\n",
       "<p>5 rows × 21 columns</p>\n",
       "</div>"
      ],
      "text/plain": [
       "          order_id order_date  ship_date       ship_mode    customer_name  \\\n",
       "0     AG-2011-2040 2011-01-01 2011-01-06  Standard Class  Toby Braunhardt   \n",
       "1    IN-2011-47883 2011-01-01 2011-01-08  Standard Class      Joseph Holt   \n",
       "2     HU-2011-1220 2011-01-01 2011-01-05    Second Class    Annie Thurman   \n",
       "3  IT-2011-3647632 2011-01-01 2011-01-05    Second Class     Eugene Moren   \n",
       "4    IN-2011-47883 2011-01-01 2011-01-08  Standard Class      Joseph Holt   \n",
       "\n",
       "       segment            state    country  market   region  ...  \\\n",
       "0     Consumer      Constantine    Algeria  Africa   Africa  ...   \n",
       "1     Consumer  New South Wales  Australia    APAC  Oceania  ...   \n",
       "2     Consumer         Budapest    Hungary    EMEA     EMEA  ...   \n",
       "3  Home Office        Stockholm     Sweden      EU    North  ...   \n",
       "4     Consumer  New South Wales  Australia    APAC  Oceania  ...   \n",
       "\n",
       "          category sub_category                 product_name    sales  \\\n",
       "0  Office Supplies      Storage          Tenex Lockers, Blue  408.300   \n",
       "1  Office Supplies     Supplies     Acme Trimmer, High Speed  120.366   \n",
       "2  Office Supplies      Storage      Tenex Box, Single Width   66.120   \n",
       "3  Office Supplies        Paper  Enermax Note Cards, Premium   44.865   \n",
       "4        Furniture  Furnishings   Eldon Light Bulb, Duo Pack  113.670   \n",
       "\n",
       "   quantity  discount   profit  shipping_cost  order_priority  year  \n",
       "0         2       0.0  106.140          35.46          Medium  2011  \n",
       "1         3       0.1   36.036           9.72          Medium  2011  \n",
       "2         4       0.0   29.640           8.17            High  2011  \n",
       "3         3       0.5  -26.055           4.82            High  2011  \n",
       "4         5       0.1   37.770           4.70          Medium  2011  \n",
       "\n",
       "[5 rows x 21 columns]"
      ]
     },
     "execution_count": 2,
     "metadata": {},
     "output_type": "execute_result"
    }
   ],
   "source": [
    "df= pd.read_excel('C:/Users/Mayank/Downloads/superstore_sales.xlsx')    \n",
    "df.head()"
   ]
  },
  {
   "cell_type": "markdown",
   "id": "f9f88a09",
   "metadata": {},
   "source": [
    "## Get the no. of rows and columns ##"
   ]
  },
  {
   "cell_type": "code",
   "execution_count": 3,
   "id": "3c14bcff",
   "metadata": {},
   "outputs": [
    {
     "data": {
      "text/plain": [
       "(51290, 21)"
      ]
     },
     "execution_count": 3,
     "metadata": {},
     "output_type": "execute_result"
    }
   ],
   "source": [
    "df.shape"
   ]
  },
  {
   "cell_type": "markdown",
   "id": "eb5d2f43",
   "metadata": {},
   "source": [
    "## count the no. of missing value ##"
   ]
  },
  {
   "cell_type": "code",
   "execution_count": 4,
   "id": "e79ddd87",
   "metadata": {},
   "outputs": [
    {
     "data": {
      "text/plain": [
       "order_id          0\n",
       "order_date        0\n",
       "ship_date         0\n",
       "ship_mode         0\n",
       "customer_name     0\n",
       "segment           0\n",
       "state             0\n",
       "country           0\n",
       "market            0\n",
       "region            0\n",
       "product_id        0\n",
       "category          0\n",
       "sub_category      0\n",
       "product_name      0\n",
       "sales             0\n",
       "quantity          0\n",
       "discount          0\n",
       "profit            0\n",
       "shipping_cost     0\n",
       "order_priority    0\n",
       "year              0\n",
       "dtype: int64"
      ]
     },
     "execution_count": 4,
     "metadata": {},
     "output_type": "execute_result"
    }
   ],
   "source": [
    "df.isnull().sum() "
   ]
  },
  {
   "cell_type": "markdown",
   "id": "75ecebd1",
   "metadata": {},
   "source": [
    "## which are the most selling product ##"
   ]
  },
  {
   "cell_type": "code",
   "execution_count": 5,
   "id": "b89506d2",
   "metadata": {},
   "outputs": [
    {
     "data": {
      "text/html": [
       "<div>\n",
       "<style scoped>\n",
       "    .dataframe tbody tr th:only-of-type {\n",
       "        vertical-align: middle;\n",
       "    }\n",
       "\n",
       "    .dataframe tbody tr th {\n",
       "        vertical-align: top;\n",
       "    }\n",
       "\n",
       "    .dataframe thead th {\n",
       "        text-align: right;\n",
       "    }\n",
       "</style>\n",
       "<table border=\"1\" class=\"dataframe\">\n",
       "  <thead>\n",
       "    <tr style=\"text-align: right;\">\n",
       "      <th></th>\n",
       "      <th>quantity</th>\n",
       "    </tr>\n",
       "    <tr>\n",
       "      <th>product_name</th>\n",
       "      <th></th>\n",
       "    </tr>\n",
       "  </thead>\n",
       "  <tbody>\n",
       "    <tr>\n",
       "      <th>Staples</th>\n",
       "      <td>876</td>\n",
       "    </tr>\n",
       "    <tr>\n",
       "      <th>Cardinal Index Tab, Clear</th>\n",
       "      <td>337</td>\n",
       "    </tr>\n",
       "    <tr>\n",
       "      <th>Eldon File Cart, Single Width</th>\n",
       "      <td>321</td>\n",
       "    </tr>\n",
       "    <tr>\n",
       "      <th>Rogers File Cart, Single Width</th>\n",
       "      <td>262</td>\n",
       "    </tr>\n",
       "    <tr>\n",
       "      <th>Sanford Pencil Sharpener, Water Color</th>\n",
       "      <td>259</td>\n",
       "    </tr>\n",
       "    <tr>\n",
       "      <th>Stockwell Paper Clips, Assorted Sizes</th>\n",
       "      <td>253</td>\n",
       "    </tr>\n",
       "    <tr>\n",
       "      <th>Avery Index Tab, Clear</th>\n",
       "      <td>252</td>\n",
       "    </tr>\n",
       "    <tr>\n",
       "      <th>Ibico Index Tab, Clear</th>\n",
       "      <td>251</td>\n",
       "    </tr>\n",
       "    <tr>\n",
       "      <th>Smead File Cart, Single Width</th>\n",
       "      <td>250</td>\n",
       "    </tr>\n",
       "    <tr>\n",
       "      <th>Stanley Pencil Sharpener, Water Color</th>\n",
       "      <td>242</td>\n",
       "    </tr>\n",
       "  </tbody>\n",
       "</table>\n",
       "</div>"
      ],
      "text/plain": [
       "                                       quantity\n",
       "product_name                                   \n",
       "Staples                                     876\n",
       "Cardinal Index Tab, Clear                   337\n",
       "Eldon File Cart, Single Width               321\n",
       "Rogers File Cart, Single Width              262\n",
       "Sanford Pencil Sharpener, Water Color       259\n",
       "Stockwell Paper Clips, Assorted Sizes       253\n",
       "Avery Index Tab, Clear                      252\n",
       "Ibico Index Tab, Clear                      251\n",
       "Smead File Cart, Single Width               250\n",
       "Stanley Pencil Sharpener, Water Color       242"
      ]
     },
     "execution_count": 5,
     "metadata": {},
     "output_type": "execute_result"
    }
   ],
   "source": [
    "boughts = df.groupby ('product_name').agg({'quantity':'sum'}).sort_values('quantity',ascending= False).head(10)\n",
    "boughts"
   ]
  },
  {
   "cell_type": "code",
   "execution_count": 6,
   "id": "db825d99",
   "metadata": {},
   "outputs": [
    {
     "data": {
      "text/plain": [
       "(array([0, 1, 2, 3, 4, 5, 6, 7, 8, 9]),\n",
       " [Text(0, 0, 'Staples'),\n",
       "  Text(1, 0, 'Cardinal Index Tab, Clear'),\n",
       "  Text(2, 0, 'Eldon File Cart, Single Width'),\n",
       "  Text(3, 0, 'Rogers File Cart, Single Width'),\n",
       "  Text(4, 0, 'Sanford Pencil Sharpener, Water Color'),\n",
       "  Text(5, 0, 'Stockwell Paper Clips, Assorted Sizes'),\n",
       "  Text(6, 0, 'Avery Index Tab, Clear'),\n",
       "  Text(7, 0, 'Ibico Index Tab, Clear'),\n",
       "  Text(8, 0, 'Smead File Cart, Single Width'),\n",
       "  Text(9, 0, 'Stanley Pencil Sharpener, Water Color')])"
      ]
     },
     "execution_count": 6,
     "metadata": {},
     "output_type": "execute_result"
    },
    {
     "data": {
      "image/png": "[encoded data removed]",
      "text/plain": [
       "<Figure size 700x500 with 1 Axes>"
      ]
     },
     "metadata": {},
     "output_type": "display_data"
    }
   ],
   "source": [
    "plt.figure(figsize=(7,5))\n",
    "sns.barplot(x='product_name',y='quantity',data= boughts.reset_index())\n",
    "plt.xticks(rotation='vertical')"
   ]
  },
  {
   "cell_type": "markdown",
   "id": "d8d9fdba",
   "metadata": {},
   "source": [
    "## Which are the Top 10 products by sales ##"
   ]
  },
  {
   "cell_type": "code",
   "execution_count": 7,
   "id": "9de22738",
   "metadata": {},
   "outputs": [
    {
     "data": {
      "text/html": [
       "<div>\n",
       "<style scoped>\n",
       "    .dataframe tbody tr th:only-of-type {\n",
       "        vertical-align: middle;\n",
       "    }\n",
       "\n",
       "    .dataframe tbody tr th {\n",
       "        vertical-align: top;\n",
       "    }\n",
       "\n",
       "    .dataframe thead th {\n",
       "        text-align: right;\n",
       "    }\n",
       "</style>\n",
       "<table border=\"1\" class=\"dataframe\">\n",
       "  <thead>\n",
       "    <tr style=\"text-align: right;\">\n",
       "      <th></th>\n",
       "      <th>sales</th>\n",
       "    </tr>\n",
       "    <tr>\n",
       "      <th>product_name</th>\n",
       "      <th></th>\n",
       "    </tr>\n",
       "  </thead>\n",
       "  <tbody>\n",
       "    <tr>\n",
       "      <th>Apple Smart Phone, Full Size</th>\n",
       "      <td>86935.7786</td>\n",
       "    </tr>\n",
       "    <tr>\n",
       "      <th>Cisco Smart Phone, Full Size</th>\n",
       "      <td>76441.5306</td>\n",
       "    </tr>\n",
       "    <tr>\n",
       "      <th>Motorola Smart Phone, Full Size</th>\n",
       "      <td>73156.3030</td>\n",
       "    </tr>\n",
       "    <tr>\n",
       "      <th>Nokia Smart Phone, Full Size</th>\n",
       "      <td>71904.5555</td>\n",
       "    </tr>\n",
       "    <tr>\n",
       "      <th>Canon imageCLASS 2200 Advanced Copier</th>\n",
       "      <td>61599.8240</td>\n",
       "    </tr>\n",
       "    <tr>\n",
       "      <th>Hon Executive Leather Armchair, Adjustable</th>\n",
       "      <td>58193.4841</td>\n",
       "    </tr>\n",
       "    <tr>\n",
       "      <th>Office Star Executive Leather Armchair, Adjustable</th>\n",
       "      <td>50661.6840</td>\n",
       "    </tr>\n",
       "    <tr>\n",
       "      <th>Harbour Creations Executive Leather Armchair, Adjustable</th>\n",
       "      <td>50121.5160</td>\n",
       "    </tr>\n",
       "    <tr>\n",
       "      <th>Samsung Smart Phone, Cordless</th>\n",
       "      <td>48653.4600</td>\n",
       "    </tr>\n",
       "    <tr>\n",
       "      <th>Nokia Smart Phone, with Caller ID</th>\n",
       "      <td>47877.7857</td>\n",
       "    </tr>\n",
       "  </tbody>\n",
       "</table>\n",
       "</div>"
      ],
      "text/plain": [
       "                                                         sales\n",
       "product_name                                                  \n",
       "Apple Smart Phone, Full Size                        86935.7786\n",
       "Cisco Smart Phone, Full Size                        76441.5306\n",
       "Motorola Smart Phone, Full Size                     73156.3030\n",
       "Nokia Smart Phone, Full Size                        71904.5555\n",
       "Canon imageCLASS 2200 Advanced Copier               61599.8240\n",
       "Hon Executive Leather Armchair, Adjustable          58193.4841\n",
       "Office Star Executive Leather Armchair, Adjustable  50661.6840\n",
       "Harbour Creations Executive Leather Armchair, A...  50121.5160\n",
       "Samsung Smart Phone, Cordless                       48653.4600\n",
       "Nokia Smart Phone, with Caller ID                   47877.7857"
      ]
     },
     "execution_count": 7,
     "metadata": {},
     "output_type": "execute_result"
    }
   ],
   "source": [
    "productsales =df.groupby ('product_name').agg({'sales':'sum'}).sort_values('sales',ascending= False).head(10)\n",
    "productsales"
   ]
  },
  {
   "cell_type": "markdown",
   "id": "390ffb79",
   "metadata": {},
   "source": [
    "##  Which are the most profitable products ##"
   ]
  },
  {
   "cell_type": "code",
   "execution_count": 8,
   "id": "75beaf07",
   "metadata": {},
   "outputs": [
    {
     "data": {
      "text/html": [
       "<div>\n",
       "<style scoped>\n",
       "    .dataframe tbody tr th:only-of-type {\n",
       "        vertical-align: middle;\n",
       "    }\n",
       "\n",
       "    .dataframe tbody tr th {\n",
       "        vertical-align: top;\n",
       "    }\n",
       "\n",
       "    .dataframe thead th {\n",
       "        text-align: right;\n",
       "    }\n",
       "</style>\n",
       "<table border=\"1\" class=\"dataframe\">\n",
       "  <thead>\n",
       "    <tr style=\"text-align: right;\">\n",
       "      <th></th>\n",
       "      <th>profit</th>\n",
       "    </tr>\n",
       "    <tr>\n",
       "      <th>product_name</th>\n",
       "      <th></th>\n",
       "    </tr>\n",
       "  </thead>\n",
       "  <tbody>\n",
       "    <tr>\n",
       "      <th>Canon imageCLASS 2200 Advanced Copier</th>\n",
       "      <td>25199.9280</td>\n",
       "    </tr>\n",
       "    <tr>\n",
       "      <th>Cisco Smart Phone, Full Size</th>\n",
       "      <td>17238.5206</td>\n",
       "    </tr>\n",
       "    <tr>\n",
       "      <th>Motorola Smart Phone, Full Size</th>\n",
       "      <td>17027.1130</td>\n",
       "    </tr>\n",
       "    <tr>\n",
       "      <th>Hoover Stove, Red</th>\n",
       "      <td>11807.9690</td>\n",
       "    </tr>\n",
       "    <tr>\n",
       "      <th>Sauder Classic Bookcase, Traditional</th>\n",
       "      <td>10672.0730</td>\n",
       "    </tr>\n",
       "  </tbody>\n",
       "</table>\n",
       "</div>"
      ],
      "text/plain": [
       "                                           profit\n",
       "product_name                                     \n",
       "Canon imageCLASS 2200 Advanced Copier  25199.9280\n",
       "Cisco Smart Phone, Full Size           17238.5206\n",
       "Motorola Smart Phone, Full Size        17027.1130\n",
       "Hoover Stove, Red                      11807.9690\n",
       "Sauder Classic Bookcase, Traditional   10672.0730"
      ]
     },
     "execution_count": 8,
     "metadata": {},
     "output_type": "execute_result"
    }
   ],
   "source": [
    "profitable_product = df.groupby ('product_name').agg({'profit':sum}).sort_values('profit',ascending= False).head()\n",
    "profitable_product"
   ]
  },
  {
   "cell_type": "code",
   "execution_count": 9,
   "id": "c53442df",
   "metadata": {},
   "outputs": [
    {
     "data": {
      "text/plain": [
       "<Figure size 700x500 with 0 Axes>"
      ]
     },
     "execution_count": 9,
     "metadata": {},
     "output_type": "execute_result"
    },
    {
     "data": {
      "image/png": "[encoded data removed]",
      "text/plain": [
       "<Figure size 640x480 with 1 Axes>"
      ]
     },
     "metadata": {},
     "output_type": "display_data"
    },
    {
     "data": {
      "text/plain": [
       "<Figure size 700x500 with 0 Axes>"
      ]
     },
     "metadata": {},
     "output_type": "display_data"
    }
   ],
   "source": [
    "sns.barplot(x='product_name',y= 'profit',data=profitable_product.reset_index())\n",
    "plt.xticks(rotation='vertical')\n",
    "plt.figure(figsize=(7,5))"
   ]
  },
  {
   "cell_type": "markdown",
   "id": "b3154815",
   "metadata": {},
   "source": [
    "## What category sold the most by quantity ##"
   ]
  },
  {
   "cell_type": "code",
   "execution_count": 10,
   "id": "9d5c7136",
   "metadata": {},
   "outputs": [
    {
     "data": {
      "text/html": [
       "<div>\n",
       "<style scoped>\n",
       "    .dataframe tbody tr th:only-of-type {\n",
       "        vertical-align: middle;\n",
       "    }\n",
       "\n",
       "    .dataframe tbody tr th {\n",
       "        vertical-align: top;\n",
       "    }\n",
       "\n",
       "    .dataframe thead th {\n",
       "        text-align: right;\n",
       "    }\n",
       "</style>\n",
       "<table border=\"1\" class=\"dataframe\">\n",
       "  <thead>\n",
       "    <tr style=\"text-align: right;\">\n",
       "      <th></th>\n",
       "      <th>quantity</th>\n",
       "    </tr>\n",
       "    <tr>\n",
       "      <th>category</th>\n",
       "      <th></th>\n",
       "    </tr>\n",
       "  </thead>\n",
       "  <tbody>\n",
       "    <tr>\n",
       "      <th>Office Supplies</th>\n",
       "      <td>108182</td>\n",
       "    </tr>\n",
       "    <tr>\n",
       "      <th>Technology</th>\n",
       "      <td>35176</td>\n",
       "    </tr>\n",
       "    <tr>\n",
       "      <th>Furniture</th>\n",
       "      <td>34954</td>\n",
       "    </tr>\n",
       "  </tbody>\n",
       "</table>\n",
       "</div>"
      ],
      "text/plain": [
       "                 quantity\n",
       "category                 \n",
       "Office Supplies    108182\n",
       "Technology          35176\n",
       "Furniture           34954"
      ]
     },
     "execution_count": 10,
     "metadata": {},
     "output_type": "execute_result"
    }
   ],
   "source": [
    "category_sold=df.groupby('category').agg({'quantity':sum}).sort_values('quantity',ascending=False)\n",
    "category_sold"
   ]
  },
  {
   "cell_type": "code",
   "execution_count": 11,
   "id": "ba3ab374",
   "metadata": {},
   "outputs": [
    {
     "data": {
      "text/plain": [
       "<Figure size 700x500 with 0 Axes>"
      ]
     },
     "execution_count": 11,
     "metadata": {},
     "output_type": "execute_result"
    },
    {
     "data": {
      "image/png": "[encoded data removed]",
      "text/plain": [
       "<Figure size 640x480 with 1 Axes>"
      ]
     },
     "metadata": {},
     "output_type": "display_data"
    },
    {
     "data": {
      "text/plain": [
       "<Figure size 700x500 with 0 Axes>"
      ]
     },
     "metadata": {},
     "output_type": "display_data"
    }
   ],
   "source": [
    "sns.barplot(x='category',y= 'quantity',data=category_sold.reset_index())\n",
    "plt.xticks(rotation='vertical')\n",
    "plt.figure(figsize=(7,5))"
   ]
  },
  {
   "cell_type": "markdown",
   "id": "8774dfa5",
   "metadata": {},
   "source": [
    "##  Which are the most profitable category ##"
   ]
  },
  {
   "cell_type": "code",
   "execution_count": 12,
   "id": "690b83ff",
   "metadata": {},
   "outputs": [
    {
     "data": {
      "text/html": [
       "<div>\n",
       "<style scoped>\n",
       "    .dataframe tbody tr th:only-of-type {\n",
       "        vertical-align: middle;\n",
       "    }\n",
       "\n",
       "    .dataframe tbody tr th {\n",
       "        vertical-align: top;\n",
       "    }\n",
       "\n",
       "    .dataframe thead th {\n",
       "        text-align: right;\n",
       "    }\n",
       "</style>\n",
       "<table border=\"1\" class=\"dataframe\">\n",
       "  <thead>\n",
       "    <tr style=\"text-align: right;\">\n",
       "      <th></th>\n",
       "      <th>profit</th>\n",
       "    </tr>\n",
       "    <tr>\n",
       "      <th>category</th>\n",
       "      <th></th>\n",
       "    </tr>\n",
       "  </thead>\n",
       "  <tbody>\n",
       "    <tr>\n",
       "      <th>Technology</th>\n",
       "      <td>663778.73318</td>\n",
       "    </tr>\n",
       "    <tr>\n",
       "      <th>Office Supplies</th>\n",
       "      <td>518473.83430</td>\n",
       "    </tr>\n",
       "    <tr>\n",
       "      <th>Furniture</th>\n",
       "      <td>286782.25380</td>\n",
       "    </tr>\n",
       "  </tbody>\n",
       "</table>\n",
       "</div>"
      ],
      "text/plain": [
       "                       profit\n",
       "category                     \n",
       "Technology       663778.73318\n",
       "Office Supplies  518473.83430\n",
       "Furniture        286782.25380"
      ]
     },
     "execution_count": 12,
     "metadata": {},
     "output_type": "execute_result"
    }
   ],
   "source": [
    "profitablecategory= df.groupby('category').agg({'profit':sum}).sort_values('profit',ascending=False)\n",
    "profitablecategory"
   ]
  },
  {
   "cell_type": "code",
   "execution_count": 13,
   "id": "f658294b",
   "metadata": {},
   "outputs": [
    {
     "data": {
      "image/png": "[encoded data removed]",
      "text/plain": [
       "<Figure size 700x500 with 1 Axes>"
      ]
     },
     "metadata": {},
     "output_type": "display_data"
    }
   ],
   "source": [
    "plt.figure(figsize=(7, 5))\n",
    "plt.bar(df['category'],df['sales'],color = 'b')\n",
    "plt.xticks(size=8)\n",
    "plt.show()\n"
   ]
  },
  {
   "cell_type": "markdown",
   "id": "0eec7dbd",
   "metadata": {},
   "source": [
    "##  Total sales values by category and subcategory ##"
   ]
  },
  {
   "cell_type": "code",
   "execution_count": 14,
   "id": "8413d39d",
   "metadata": {},
   "outputs": [
    {
     "data": {
      "text/html": [
       "<div>\n",
       "<style scoped>\n",
       "    .dataframe tbody tr th:only-of-type {\n",
       "        vertical-align: middle;\n",
       "    }\n",
       "\n",
       "    .dataframe tbody tr th {\n",
       "        vertical-align: top;\n",
       "    }\n",
       "\n",
       "    .dataframe thead th {\n",
       "        text-align: right;\n",
       "    }\n",
       "</style>\n",
       "<table border=\"1\" class=\"dataframe\">\n",
       "  <thead>\n",
       "    <tr style=\"text-align: right;\">\n",
       "      <th></th>\n",
       "      <th></th>\n",
       "      <th>sales</th>\n",
       "    </tr>\n",
       "    <tr>\n",
       "      <th>category</th>\n",
       "      <th>sub_category</th>\n",
       "      <th></th>\n",
       "    </tr>\n",
       "  </thead>\n",
       "  <tbody>\n",
       "    <tr>\n",
       "      <th rowspan=\"4\" valign=\"top\">Technology</th>\n",
       "      <th>Phones</th>\n",
       "      <td>1.706824e+06</td>\n",
       "    </tr>\n",
       "    <tr>\n",
       "      <th>Machines</th>\n",
       "      <td>7.790601e+05</td>\n",
       "    </tr>\n",
       "    <tr>\n",
       "      <th>Copiers</th>\n",
       "      <td>1.509436e+06</td>\n",
       "    </tr>\n",
       "    <tr>\n",
       "      <th>Accessories</th>\n",
       "      <td>7.492370e+05</td>\n",
       "    </tr>\n",
       "    <tr>\n",
       "      <th rowspan=\"9\" valign=\"top\">Office Supplies</th>\n",
       "      <th>Labels</th>\n",
       "      <td>7.340403e+04</td>\n",
       "    </tr>\n",
       "    <tr>\n",
       "      <th>Supplies</th>\n",
       "      <td>2.430742e+05</td>\n",
       "    </tr>\n",
       "    <tr>\n",
       "      <th>Storage</th>\n",
       "      <td>1.127086e+06</td>\n",
       "    </tr>\n",
       "    <tr>\n",
       "      <th>Paper</th>\n",
       "      <td>2.442917e+05</td>\n",
       "    </tr>\n",
       "    <tr>\n",
       "      <th>Fasteners</th>\n",
       "      <td>8.324232e+04</td>\n",
       "    </tr>\n",
       "    <tr>\n",
       "      <th>Envelopes</th>\n",
       "      <td>1.709043e+05</td>\n",
       "    </tr>\n",
       "    <tr>\n",
       "      <th>Binders</th>\n",
       "      <td>4.619115e+05</td>\n",
       "    </tr>\n",
       "    <tr>\n",
       "      <th>Art</th>\n",
       "      <td>3.720920e+05</td>\n",
       "    </tr>\n",
       "    <tr>\n",
       "      <th>Appliances</th>\n",
       "      <td>1.011064e+06</td>\n",
       "    </tr>\n",
       "    <tr>\n",
       "      <th rowspan=\"4\" valign=\"top\">Furniture</th>\n",
       "      <th>Chairs</th>\n",
       "      <td>1.501682e+06</td>\n",
       "    </tr>\n",
       "    <tr>\n",
       "      <th>Tables</th>\n",
       "      <td>7.570419e+05</td>\n",
       "    </tr>\n",
       "    <tr>\n",
       "      <th>Furnishings</th>\n",
       "      <td>3.855783e+05</td>\n",
       "    </tr>\n",
       "    <tr>\n",
       "      <th>Bookcases</th>\n",
       "      <td>1.466572e+06</td>\n",
       "    </tr>\n",
       "  </tbody>\n",
       "</table>\n",
       "</div>"
      ],
      "text/plain": [
       "                                     sales\n",
       "category        sub_category              \n",
       "Technology      Phones        1.706824e+06\n",
       "                Machines      7.790601e+05\n",
       "                Copiers       1.509436e+06\n",
       "                Accessories   7.492370e+05\n",
       "Office Supplies Labels        7.340403e+04\n",
       "                Supplies      2.430742e+05\n",
       "                Storage       1.127086e+06\n",
       "                Paper         2.442917e+05\n",
       "                Fasteners     8.324232e+04\n",
       "                Envelopes     1.709043e+05\n",
       "                Binders       4.619115e+05\n",
       "                Art           3.720920e+05\n",
       "                Appliances    1.011064e+06\n",
       "Furniture       Chairs        1.501682e+06\n",
       "                Tables        7.570419e+05\n",
       "                Furnishings   3.855783e+05\n",
       "                Bookcases     1.466572e+06"
      ]
     },
     "execution_count": 14,
     "metadata": {},
     "output_type": "execute_result"
    }
   ],
   "source": [
    "df.groupby(['category','sub_category']).agg({'sales':sum}).sort_values('category',ascending=False)"
   ]
  },
  {
   "cell_type": "markdown",
   "id": "229f6d9c",
   "metadata": {},
   "source": [
    "##  Which are the most selling products in subcategory ##"
   ]
  },
  {
   "cell_type": "code",
   "execution_count": 15,
   "id": "009676c2",
   "metadata": {},
   "outputs": [
    {
     "data": {
      "text/html": [
       "<div>\n",
       "<style scoped>\n",
       "    .dataframe tbody tr th:only-of-type {\n",
       "        vertical-align: middle;\n",
       "    }\n",
       "\n",
       "    .dataframe tbody tr th {\n",
       "        vertical-align: top;\n",
       "    }\n",
       "\n",
       "    .dataframe thead th {\n",
       "        text-align: right;\n",
       "    }\n",
       "</style>\n",
       "<table border=\"1\" class=\"dataframe\">\n",
       "  <thead>\n",
       "    <tr style=\"text-align: right;\">\n",
       "      <th></th>\n",
       "      <th>category</th>\n",
       "      <th>sub_category</th>\n",
       "      <th>quantity</th>\n",
       "    </tr>\n",
       "  </thead>\n",
       "  <tbody>\n",
       "    <tr>\n",
       "      <th>0</th>\n",
       "      <td>Furniture</td>\n",
       "      <td>Bookcases</td>\n",
       "      <td>2411</td>\n",
       "    </tr>\n",
       "    <tr>\n",
       "      <th>1</th>\n",
       "      <td>Furniture</td>\n",
       "      <td>Chairs</td>\n",
       "      <td>3434</td>\n",
       "    </tr>\n",
       "    <tr>\n",
       "      <th>2</th>\n",
       "      <td>Furniture</td>\n",
       "      <td>Furnishings</td>\n",
       "      <td>3170</td>\n",
       "    </tr>\n",
       "    <tr>\n",
       "      <th>3</th>\n",
       "      <td>Furniture</td>\n",
       "      <td>Tables</td>\n",
       "      <td>861</td>\n",
       "    </tr>\n",
       "    <tr>\n",
       "      <th>4</th>\n",
       "      <td>Office Supplies</td>\n",
       "      <td>Appliances</td>\n",
       "      <td>1755</td>\n",
       "    </tr>\n",
       "    <tr>\n",
       "      <th>5</th>\n",
       "      <td>Office Supplies</td>\n",
       "      <td>Art</td>\n",
       "      <td>4883</td>\n",
       "    </tr>\n",
       "    <tr>\n",
       "      <th>6</th>\n",
       "      <td>Office Supplies</td>\n",
       "      <td>Binders</td>\n",
       "      <td>6152</td>\n",
       "    </tr>\n",
       "    <tr>\n",
       "      <th>7</th>\n",
       "      <td>Office Supplies</td>\n",
       "      <td>Envelopes</td>\n",
       "      <td>2435</td>\n",
       "    </tr>\n",
       "    <tr>\n",
       "      <th>8</th>\n",
       "      <td>Office Supplies</td>\n",
       "      <td>Fasteners</td>\n",
       "      <td>2420</td>\n",
       "    </tr>\n",
       "    <tr>\n",
       "      <th>9</th>\n",
       "      <td>Office Supplies</td>\n",
       "      <td>Labels</td>\n",
       "      <td>2606</td>\n",
       "    </tr>\n",
       "    <tr>\n",
       "      <th>10</th>\n",
       "      <td>Office Supplies</td>\n",
       "      <td>Paper</td>\n",
       "      <td>3538</td>\n",
       "    </tr>\n",
       "    <tr>\n",
       "      <th>11</th>\n",
       "      <td>Office Supplies</td>\n",
       "      <td>Storage</td>\n",
       "      <td>5059</td>\n",
       "    </tr>\n",
       "    <tr>\n",
       "      <th>12</th>\n",
       "      <td>Office Supplies</td>\n",
       "      <td>Supplies</td>\n",
       "      <td>2425</td>\n",
       "    </tr>\n",
       "    <tr>\n",
       "      <th>13</th>\n",
       "      <td>Technology</td>\n",
       "      <td>Accessories</td>\n",
       "      <td>3075</td>\n",
       "    </tr>\n",
       "    <tr>\n",
       "      <th>14</th>\n",
       "      <td>Technology</td>\n",
       "      <td>Copiers</td>\n",
       "      <td>2223</td>\n",
       "    </tr>\n",
       "    <tr>\n",
       "      <th>15</th>\n",
       "      <td>Technology</td>\n",
       "      <td>Machines</td>\n",
       "      <td>1486</td>\n",
       "    </tr>\n",
       "    <tr>\n",
       "      <th>16</th>\n",
       "      <td>Technology</td>\n",
       "      <td>Phones</td>\n",
       "      <td>3357</td>\n",
       "    </tr>\n",
       "  </tbody>\n",
       "</table>\n",
       "</div>"
      ],
      "text/plain": [
       "           category sub_category  quantity\n",
       "0         Furniture    Bookcases      2411\n",
       "1         Furniture       Chairs      3434\n",
       "2         Furniture  Furnishings      3170\n",
       "3         Furniture       Tables       861\n",
       "4   Office Supplies   Appliances      1755\n",
       "5   Office Supplies          Art      4883\n",
       "6   Office Supplies      Binders      6152\n",
       "7   Office Supplies    Envelopes      2435\n",
       "8   Office Supplies    Fasteners      2420\n",
       "9   Office Supplies       Labels      2606\n",
       "10  Office Supplies        Paper      3538\n",
       "11  Office Supplies      Storage      5059\n",
       "12  Office Supplies     Supplies      2425\n",
       "13       Technology  Accessories      3075\n",
       "14       Technology      Copiers      2223\n",
       "15       Technology     Machines      1486\n",
       "16       Technology       Phones      3357"
      ]
     },
     "execution_count": 15,
     "metadata": {},
     "output_type": "execute_result"
    }
   ],
   "source": [
    "df.groupby(['category','sub_category'],as_index = False)[\"quantity\"].count()"
   ]
  },
  {
   "cell_type": "markdown",
   "id": "b1f33fc8",
   "metadata": {},
   "source": [
    "##  Which customer segments are the most profitable ##"
   ]
  },
  {
   "cell_type": "code",
   "execution_count": 16,
   "id": "51c39283",
   "metadata": {},
   "outputs": [
    {
     "data": {
      "text/html": [
       "<div>\n",
       "<style scoped>\n",
       "    .dataframe tbody tr th:only-of-type {\n",
       "        vertical-align: middle;\n",
       "    }\n",
       "\n",
       "    .dataframe tbody tr th {\n",
       "        vertical-align: top;\n",
       "    }\n",
       "\n",
       "    .dataframe thead th {\n",
       "        text-align: right;\n",
       "    }\n",
       "</style>\n",
       "<table border=\"1\" class=\"dataframe\">\n",
       "  <thead>\n",
       "    <tr style=\"text-align: right;\">\n",
       "      <th></th>\n",
       "      <th>profit</th>\n",
       "    </tr>\n",
       "    <tr>\n",
       "      <th>segment</th>\n",
       "      <th></th>\n",
       "    </tr>\n",
       "  </thead>\n",
       "  <tbody>\n",
       "    <tr>\n",
       "      <th>Consumer</th>\n",
       "      <td>749239.78206</td>\n",
       "    </tr>\n",
       "    <tr>\n",
       "      <th>Corporate</th>\n",
       "      <td>442785.85866</td>\n",
       "    </tr>\n",
       "    <tr>\n",
       "      <th>Home Office</th>\n",
       "      <td>277009.18056</td>\n",
       "    </tr>\n",
       "  </tbody>\n",
       "</table>\n",
       "</div>"
      ],
      "text/plain": [
       "                   profit\n",
       "segment                  \n",
       "Consumer     749239.78206\n",
       "Corporate    442785.85866\n",
       "Home Office  277009.18056"
      ]
     },
     "execution_count": 16,
     "metadata": {},
     "output_type": "execute_result"
    }
   ],
   "source": [
    "profitable_segment = df.groupby('segment').agg({'profit':sum}).sort_values('profit',ascending=False)\n",
    "profitable_segment"
   ]
  },
  {
   "cell_type": "code",
   "execution_count": 17,
   "id": "a665c827",
   "metadata": {},
   "outputs": [
    {
     "data": {
      "text/plain": [
       "<AxesSubplot:xlabel='profit', ylabel='segment'>"
      ]
     },
     "execution_count": 17,
     "metadata": {},
     "output_type": "execute_result"
    },
    {
     "data": {
      "image/png": "[encoded data removed]",
      "text/plain": [
       "<Figure size 1200x300 with 1 Axes>"
      ]
     },
     "metadata": {},
     "output_type": "display_data"
    }
   ],
   "source": [
    "plt.figure(figsize=(12, 3))\n",
    "sns.barplot(x= 'profit',y='segment',data =profitable_segment.reset_index())\n",
    "\n"
   ]
  },
  {
   "cell_type": "markdown",
   "id": "cbbd1122",
   "metadata": {},
   "source": [
    "## What shipping modes sold the most products ##"
   ]
  },
  {
   "cell_type": "code",
   "execution_count": 18,
   "id": "52c3989a",
   "metadata": {},
   "outputs": [
    {
     "data": {
      "image/png": "[encoded data removed]",
      "text/plain": [
       "<Figure size 700x500 with 1 Axes>"
      ]
     },
     "metadata": {},
     "output_type": "display_data"
    }
   ],
   "source": [
    "plt.figure(figsize=(7,5))\n",
    "plt.bar(df['ship_mode'],df['sales'],color = 'r')\n",
    "plt.xticks(rotation='vertical')\n",
    "plt.show()\n"
   ]
  },
  {
   "cell_type": "markdown",
   "id": "921b6250",
   "metadata": {},
   "source": [
    "##  What market sold the most products ##"
   ]
  },
  {
   "cell_type": "code",
   "execution_count": 19,
   "id": "59515cc7",
   "metadata": {},
   "outputs": [
    {
     "data": {
      "text/plain": [
       "<AxesSubplot:xlabel='market', ylabel='quantity'>"
      ]
     },
     "execution_count": 19,
     "metadata": {},
     "output_type": "execute_result"
    },
    {
     "data": {
      "image/png": "[encoded data removed]",
      "text/plain": [
       "<Figure size 640x480 with 1 Axes>"
      ]
     },
     "metadata": {},
     "output_type": "display_data"
    }
   ],
   "source": [
    "sns.set_style('whitegrid')\n",
    "sns.barplot(x='market',y = 'quantity',data=df, palette='rainbow')\n"
   ]
  },
  {
   "cell_type": "markdown",
   "id": "2dea8857",
   "metadata": {},
   "source": [
    "## Which are the Top 10 country by sales ##"
   ]
  },
  {
   "cell_type": "code",
   "execution_count": 20,
   "id": "d75d0e10",
   "metadata": {},
   "outputs": [
    {
     "data": {
      "text/html": [
       "<div>\n",
       "<style scoped>\n",
       "    .dataframe tbody tr th:only-of-type {\n",
       "        vertical-align: middle;\n",
       "    }\n",
       "\n",
       "    .dataframe tbody tr th {\n",
       "        vertical-align: top;\n",
       "    }\n",
       "\n",
       "    .dataframe thead th {\n",
       "        text-align: right;\n",
       "    }\n",
       "</style>\n",
       "<table border=\"1\" class=\"dataframe\">\n",
       "  <thead>\n",
       "    <tr style=\"text-align: right;\">\n",
       "      <th></th>\n",
       "      <th>sales</th>\n",
       "    </tr>\n",
       "    <tr>\n",
       "      <th>country</th>\n",
       "      <th></th>\n",
       "    </tr>\n",
       "  </thead>\n",
       "  <tbody>\n",
       "    <tr>\n",
       "      <th>United States</th>\n",
       "      <td>2.297201e+06</td>\n",
       "    </tr>\n",
       "    <tr>\n",
       "      <th>Australia</th>\n",
       "      <td>9.252359e+05</td>\n",
       "    </tr>\n",
       "    <tr>\n",
       "      <th>France</th>\n",
       "      <td>8.589311e+05</td>\n",
       "    </tr>\n",
       "    <tr>\n",
       "      <th>China</th>\n",
       "      <td>7.005620e+05</td>\n",
       "    </tr>\n",
       "    <tr>\n",
       "      <th>Germany</th>\n",
       "      <td>6.288400e+05</td>\n",
       "    </tr>\n",
       "    <tr>\n",
       "      <th>Mexico</th>\n",
       "      <td>6.225906e+05</td>\n",
       "    </tr>\n",
       "    <tr>\n",
       "      <th>India</th>\n",
       "      <td>5.896501e+05</td>\n",
       "    </tr>\n",
       "    <tr>\n",
       "      <th>United Kingdom</th>\n",
       "      <td>5.285763e+05</td>\n",
       "    </tr>\n",
       "    <tr>\n",
       "      <th>Indonesia</th>\n",
       "      <td>4.048875e+05</td>\n",
       "    </tr>\n",
       "    <tr>\n",
       "      <th>Brazil</th>\n",
       "      <td>3.611064e+05</td>\n",
       "    </tr>\n",
       "  </tbody>\n",
       "</table>\n",
       "</div>"
      ],
      "text/plain": [
       "                       sales\n",
       "country                     \n",
       "United States   2.297201e+06\n",
       "Australia       9.252359e+05\n",
       "France          8.589311e+05\n",
       "China           7.005620e+05\n",
       "Germany         6.288400e+05\n",
       "Mexico          6.225906e+05\n",
       "India           5.896501e+05\n",
       "United Kingdom  5.285763e+05\n",
       "Indonesia       4.048875e+05\n",
       "Brazil          3.611064e+05"
      ]
     },
     "execution_count": 20,
     "metadata": {},
     "output_type": "execute_result"
    }
   ],
   "source": [
    "df.groupby('country').agg({'sales':sum}).sort_values('sales',ascending= False).head(10)"
   ]
  },
  {
   "cell_type": "markdown",
   "id": "fa5eae1e",
   "metadata": {},
   "source": [
    "## Which are the average shipping cost for top 10 different countries ##"
   ]
  },
  {
   "cell_type": "code",
   "execution_count": 21,
   "id": "9fbdc8fa",
   "metadata": {},
   "outputs": [
    {
     "data": {
      "text/html": [
       "<div>\n",
       "<style scoped>\n",
       "    .dataframe tbody tr th:only-of-type {\n",
       "        vertical-align: middle;\n",
       "    }\n",
       "\n",
       "    .dataframe tbody tr th {\n",
       "        vertical-align: top;\n",
       "    }\n",
       "\n",
       "    .dataframe thead th {\n",
       "        text-align: right;\n",
       "    }\n",
       "</style>\n",
       "<table border=\"1\" class=\"dataframe\">\n",
       "  <thead>\n",
       "    <tr style=\"text-align: right;\">\n",
       "      <th></th>\n",
       "      <th>shipping_cost</th>\n",
       "    </tr>\n",
       "    <tr>\n",
       "      <th>country</th>\n",
       "      <th></th>\n",
       "    </tr>\n",
       "  </thead>\n",
       "  <tbody>\n",
       "    <tr>\n",
       "      <th>Taiwan</th>\n",
       "      <td>155.660714</td>\n",
       "    </tr>\n",
       "    <tr>\n",
       "      <th>Chad</th>\n",
       "      <td>148.970000</td>\n",
       "    </tr>\n",
       "    <tr>\n",
       "      <th>Lesotho</th>\n",
       "      <td>135.650000</td>\n",
       "    </tr>\n",
       "    <tr>\n",
       "      <th>Montenegro</th>\n",
       "      <td>93.937500</td>\n",
       "    </tr>\n",
       "    <tr>\n",
       "      <th>Slovenia</th>\n",
       "      <td>61.220000</td>\n",
       "    </tr>\n",
       "    <tr>\n",
       "      <th>Republic of the Congo</th>\n",
       "      <td>59.303333</td>\n",
       "    </tr>\n",
       "    <tr>\n",
       "      <th>Central African Republic</th>\n",
       "      <td>57.625714</td>\n",
       "    </tr>\n",
       "    <tr>\n",
       "      <th>Namibia</th>\n",
       "      <td>50.370000</td>\n",
       "    </tr>\n",
       "    <tr>\n",
       "      <th>Bangladesh</th>\n",
       "      <td>46.402883</td>\n",
       "    </tr>\n",
       "    <tr>\n",
       "      <th>Estonia</th>\n",
       "      <td>46.070000</td>\n",
       "    </tr>\n",
       "  </tbody>\n",
       "</table>\n",
       "</div>"
      ],
      "text/plain": [
       "                          shipping_cost\n",
       "country                                \n",
       "Taiwan                       155.660714\n",
       "Chad                         148.970000\n",
       "Lesotho                      135.650000\n",
       "Montenegro                    93.937500\n",
       "Slovenia                      61.220000\n",
       "Republic of the Congo         59.303333\n",
       "Central African Republic      57.625714\n",
       "Namibia                       50.370000\n",
       "Bangladesh                    46.402883\n",
       "Estonia                       46.070000"
      ]
     },
     "execution_count": 21,
     "metadata": {},
     "output_type": "execute_result"
    }
   ],
   "source": [
    "df.groupby('country').agg({'shipping_cost':'mean'}).sort_values('shipping_cost', ascending=False).head(10)"
   ]
  },
  {
   "cell_type": "code",
   "execution_count": 24,
   "id": "3504f12a",
   "metadata": {},
   "outputs": [
    {
     "data": {
      "text/html": [
       "<div>\n",
       "<style scoped>\n",
       "    .dataframe tbody tr th:only-of-type {\n",
       "        vertical-align: middle;\n",
       "    }\n",
       "\n",
       "    .dataframe tbody tr th {\n",
       "        vertical-align: top;\n",
       "    }\n",
       "\n",
       "    .dataframe thead th {\n",
       "        text-align: right;\n",
       "    }\n",
       "</style>\n",
       "<table border=\"1\" class=\"dataframe\">\n",
       "  <thead>\n",
       "    <tr style=\"text-align: right;\">\n",
       "      <th></th>\n",
       "      <th>sales</th>\n",
       "      <th>quantity</th>\n",
       "      <th>discount</th>\n",
       "      <th>profit</th>\n",
       "      <th>shipping_cost</th>\n",
       "    </tr>\n",
       "    <tr>\n",
       "      <th>year</th>\n",
       "      <th></th>\n",
       "      <th></th>\n",
       "      <th></th>\n",
       "      <th></th>\n",
       "      <th></th>\n",
       "    </tr>\n",
       "  </thead>\n",
       "  <tbody>\n",
       "    <tr>\n",
       "      <th>2011</th>\n",
       "      <td>2.259451e+06</td>\n",
       "      <td>31443</td>\n",
       "      <td>1333.394</td>\n",
       "      <td>248940.81154</td>\n",
       "      <td>244270.34550</td>\n",
       "    </tr>\n",
       "    <tr>\n",
       "      <th>2012</th>\n",
       "      <td>2.677439e+06</td>\n",
       "      <td>38111</td>\n",
       "      <td>1548.774</td>\n",
       "      <td>307415.27910</td>\n",
       "      <td>283490.82400</td>\n",
       "    </tr>\n",
       "    <tr>\n",
       "      <th>2013</th>\n",
       "      <td>3.405746e+06</td>\n",
       "      <td>48136</td>\n",
       "      <td>1935.522</td>\n",
       "      <td>408512.76018</td>\n",
       "      <td>364548.74436</td>\n",
       "    </tr>\n",
       "    <tr>\n",
       "      <th>2014</th>\n",
       "      <td>4.299866e+06</td>\n",
       "      <td>60622</td>\n",
       "      <td>2512.038</td>\n",
       "      <td>504165.97046</td>\n",
       "      <td>460505.78954</td>\n",
       "    </tr>\n",
       "  </tbody>\n",
       "</table>\n",
       "</div>"
      ],
      "text/plain": [
       "             sales  quantity  discount        profit  shipping_cost\n",
       "year                                                               \n",
       "2011  2.259451e+06     31443  1333.394  248940.81154   244270.34550\n",
       "2012  2.677439e+06     38111  1548.774  307415.27910   283490.82400\n",
       "2013  3.405746e+06     48136  1935.522  408512.76018   364548.74436\n",
       "2014  4.299866e+06     60622  2512.038  504165.97046   460505.78954"
      ]
     },
     "execution_count": 24,
     "metadata": {},
     "output_type": "execute_result"
    }
   ],
   "source": [
    "date = df.groupby('year').sum()\n",
    "date"
   ]
  },
  {
   "cell_type": "markdown",
   "id": "1b7f6700",
   "metadata": {},
   "source": [
    "## Total sales chart by the year ##"
   ]
  },
  {
   "cell_type": "code",
   "execution_count": 25,
   "id": "8d4706ee",
   "metadata": {},
   "outputs": [
    {
     "data": {
      "text/plain": [
       "(array([0, 1, 2, 3]),\n",
       " [Text(0, 0, '2011'),\n",
       "  Text(1, 0, '2012'),\n",
       "  Text(2, 0, '2013'),\n",
       "  Text(3, 0, '2014')])"
      ]
     },
     "execution_count": 25,
     "metadata": {},
     "output_type": "execute_result"
    },
    {
     "data": {
      "image/png": "[encoded data removed]",
      "text/plain": [
       "<Figure size 640x480 with 1 Axes>"
      ]
     },
     "metadata": {},
     "output_type": "display_data"
    }
   ],
   "source": [
    "sns.barplot(x='year',y='sales',data=date.reset_index())\n",
    "plt.xticks(rotation = 'vertical')\n"
   ]
  },
  {
   "cell_type": "code",
   "execution_count": null,
   "id": "779c6f03",
   "metadata": {},
   "outputs": [],
   "source": []
  },
  {
   "cell_type": "code",
   "execution_count": null,
   "id": "f80f5e6c",
   "metadata": {},
   "outputs": [],
   "source": []
  }
 ],
 "metadata": {
  "kernelspec": {
   "display_name": "Python 3 (ipykernel)",
   "language": "python",
   "name": "python3"
  },
  "language_info": {
   "codemirror_mode": {
    "name": "ipython",
    "version": 3
   },
   "file_extension": ".py",
   "mimetype": "text/x-python",
   "name": "python",
   "nbconvert_exporter": "python",
   "pygments_lexer": "ipython3",
   "version": "3.9.13"
  }
 },
 "nbformat": 4,
 "nbformat_minor": 5
}
